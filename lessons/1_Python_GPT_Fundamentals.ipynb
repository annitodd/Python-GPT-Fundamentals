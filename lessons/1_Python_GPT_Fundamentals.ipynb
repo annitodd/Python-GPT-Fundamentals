{
 "cells": [
  {
   "cell_type": "markdown",
   "metadata": {
    "jp-MarkdownHeadingCollapsed": true
   },
   "source": [
    "# GPT Fundamentals in Python\n",
    "\n",
    "* * * \n",
    "\n",
    "<div class=\"alert alert-success\">  \n",
    "    \n",
    "### Learning Objectives \n",
    "    \n",
    "* Understand what makes the \"magic\" of GPT and Large Language Models (LLMs) possible via foundational concepts of word embeddings and the transformer architecture.\n",
    "* Get an intuition of word embeddings as numbers projected in vector space. \n",
    "* Distinguish components of the self-attention mechanism in transformer models.\n",
    "* Adjust hyperparameters of GPT models to control output randomness. \n",
    "* Understand how geometric similarity approaches can be used to represent similarity between words.\n",
    "    \n",
    "</div>\n",
    "\n",
    "### Icons Used in This Notebook\n",
    "🔔 **Question**: A quick question to help you understand what's going on.<br>\n",
    "💡 **Tip**: How to do something a bit more efficiently or effectively.<br>\n",
    "📝 **Poll:** A Zoom poll to check in with you.<br>\n",
    "\n",
    "### Sections\n",
    "1. [This Workshop](#this)\n",
    "2. [The Bag of Words Model](#bow)\n",
    "3. [Word Embeddings](#we)\n",
    "4. [The Transformer Architecture](#transf)\n",
    "5. [Generating Text: Enter GPT](#gpt)\n",
    "6. [Using GPT to Generate Text](#use)"
   ]
  },
  {
   "cell_type": "markdown",
   "metadata": {
    "tags": []
   },
   "source": [
    "<a id='this'></a>\n",
    "\n",
    "# This Workshop \n",
    "\n",
    "Most of us are using [ChatGPT](https://chat.openai.com) and other similar Generative AI tools on a daily basis. But how does it work? This workshop will explain foundational concepts from the recent developments in AI that make this technology work.\n",
    "\n",
    "**📝 Poll 1**: How often do you use ChatGPT?"
   ]
  },
  {
   "cell_type": "markdown",
   "metadata": {},
   "source": [
    "## Defining LLMs\n",
    "\n",
    "A Large Language Model (LLM) is a type of Artificial Intelligence that processes and generates human-like text by **learning** from a vast dataset of existing writing. It predicts and assembles words in response to queries or prompts, mimicking the style and content it has been trained on."
   ]
  },
  {
   "cell_type": "markdown",
   "metadata": {},
   "source": [
    "In this workshop, we will look at GPT, a type of Large Language Model developed by OpenAI that underpins ChatGPT. It can generate human-like text, answer questions, summarize text, translate text to other languages, generate code, and more.\n",
    "\n",
    "It is worth asking how it is able to have such a nuanced understanding of language--and what \"understanding\" means in this context of machine learning!\n",
    "\n",
    "As we will see, the history of Large Language Models is a history of turning words into numbers in increasingly clever ways."
   ]
  },
  {
   "cell_type": "markdown",
   "metadata": {},
   "source": [
    "## Context: Machine Learning\n",
    "\n",
    "The systems we will be learning about here make use of **machine learning** to learn about language. This means it is not explicitly defining procedures for how to behave (like AI engineers used to do in the early days of AI) but set up flexible structure with tunable **weights** or **parameters** (think of a bunch of knobs and dials), and using many examples of what the output should look like given an input.\n",
    "\n",
    "A simple example of Machine Learning is linear regression. Here, you have 2 parameters: a slope and a y-intercept. Together, these can yield a line of best fit to match some data points and create predictions.\n",
    "\n",
    "<img src='../images/lr.png' alt=\"Language Modeling history\" width=\"500\">\n",
    "\n",
    "We're using this example just to compare: GPT-4 has over a **trillion parameters**. These parameters, in a neural network context, are the weights of the model that are learned from the training data, and they determine how the model behaves. \n",
    "\n",
    "Note that linear regression is an example of **supervised learning** (where the model learns from labeled data), while GPT models use **self-supervised learning**. Instead of being given correct answers (like labeled data), GPT learns by predicting the next word in a sentence based on context, making it more flexible for processing large amounts of text without needing labels."
   ]
  },
  {
   "cell_type": "markdown",
   "metadata": {},
   "source": [
    "<a id='bow'></a>\n",
    "\n",
    "# The Bag of Words Model (1950s-2010s)\n",
    "\n",
    "<img src='../images/LM-history-1.png' alt=\"Language Modeling history\" width=\"600\">\n",
    "\n",
    "In order to appreciate how exciting it is to capture semantic content by numbers, you should know something about how words typically were encoded by computers before the early 2010s.\n",
    "\n",
    "In order to have computers work with text, the text must be represented by numbers. In a **Bag of Words model**, a corpus of texts is transformed into a fixed-length vector (a list of numbers) whose length is the vocabulary of the whole corpus. Each position in the vector corresponds to a word in the vocabulary, and each value in the vector corresponds to the frequency of the word in a given document. In some implementations of the BoW model, the value in the vector may also be binary (indicating presence/absence) or based on term frequency-inverse document frequency (TF-IDF) instead of raw frequency.\n",
    "\n",
    "Let's have a look:"
   ]
  },
  {
   "cell_type": "code",
   "execution_count": 7,
   "metadata": {
    "tags": []
   },
   "outputs": [
    {
     "name": "stdout",
     "output_type": "stream",
     "text": [
      "Vocabulary:\n",
      " ['are' 'better' 'cat' 'cats' 'chased' 'dog' 'dogs' 'mat' 'on' 'sat' 'than'\n",
      " 'the']\n",
      "Bag of Words Matrix:\n",
      " [[0 0 1 0 0 0 0 1 1 1 0 2]\n",
      " [1 1 0 1 0 0 1 0 0 0 1 0]\n",
      " [0 0 1 0 1 1 0 0 0 0 0 2]]\n"
     ]
    }
   ],
   "source": [
    "from sklearn.feature_extraction.text import CountVectorizer\n",
    "\n",
    "# Example documents\n",
    "documents = [\n",
    "    \"the cat sat on the mat\",\n",
    "    \"dogs are better than cats\",\n",
    "    \"the dog chased the cat\"\n",
    "]\n",
    "\n",
    "# Create an instance of CountVectorizer\n",
    "vectorizer = CountVectorizer()\n",
    "\n",
    "# Fit and transform the documents\n",
    "bow_matrix = vectorizer.fit_transform(documents)\n",
    "\n",
    "# Get feature names (vocabulary)\n",
    "feature_names = vectorizer.get_feature_names_out()\n",
    "\n",
    "# Convert bow_matrix to an array and display the contents along with feature names\n",
    "print(\"Vocabulary:\\n\", feature_names)\n",
    "print(\"Bag of Words Matrix:\\n\", bow_matrix.toarray())\n"
   ]
  },
  {
   "cell_type": "markdown",
   "metadata": {},
   "source": [
    "Note that a Bag of Words model treats each word occurrence independently, disregarding the context or order of words--hence the name.\n",
    "\n",
    "This way of encoding text has issues. Image we had a large corpus of a million unique words--each word would have to be captured in a vector that is one million in length. Worse yet, most numbers in that vector would be 0! That doesn't sound like an ideal way to capture information. \n",
    "\n",
    "Just as importantly, what this method lacks is a representation of **semantic relationships** between words. We know where they exist in a text, and how often--but not *how they relate to each other*!"
   ]
  },
  {
   "cell_type": "markdown",
   "metadata": {},
   "source": [
    "<a id='we'></a>\n",
    "# Word Embeddings (early 2010s)\n",
    "\n",
    "<img src='../images/LM-history-2.png' alt=\"Language Modeling history\" width=\"600\">\n",
    "\n",
    "\n",
    "> “You shall know a word by the company it keeps” (JR Firth 1957) \n",
    "\n",
    "The introduction of Word2Vec by a team at Google in 2013 marked a significant shift in the field. Word2Vec is a Machine Learning method to create **word embeddings**, that is, representing words in **vector spaces**. \n",
    "\n",
    "What does that mean? In Word Embeddings models, words are not simply represented by their count, like we just saw. Instead, the model learns a series of complex values to represent each word (e.g. `[0.07380505, -0.01533471, -0.04536613,  0.06554051]`). \n",
    "\n",
    "Interestingly, in a well-trained model, these numbers (AKA **parameters** or **weights**) can come to **capture semantic and syntactic meaning**! "
   ]
  },
  {
   "cell_type": "markdown",
   "metadata": {},
   "source": [
    "### Training a Word Embeddings Model\n",
    "\n",
    "The values of word embeddings are initiated randomly, but as the model is trained on data, these values eventually encode the meaning of words. \n",
    "\n",
    "In word embeddings, we treat semantic relations as a Machine Learning (ML) problem. Essentially, we teach a **neural network** how to predict the similarity of words by throwing in all of the words in our corpus, and training it to identify patterns and relationships between them based on their contextual usage.\n",
    "\n",
    "This process involves looking at words that appear closely together within a sentence or document, and assume that this mean they have similar meanings. That's all! Surprisingly, this is enough to capture all kinds of semantic and syntactic features in the data.\n",
    "\n",
    "In the famous words of linguist J.R. Firth: \n",
    "#### \"You shall know a word by the company it keeps.\"\n",
    "\n",
    "Word2Vec learns word embeddings based on a **context window** size. This size determines how many neighboring words the model looks at to learn the relationships between words. For example, if the context window size is 2, the model will only consider the two words before and after a target word. So, in the sentence \"the dog chased the cat,\" when learning about \"chased,\" the model will only take into account \"the\" and \"dog\" on the left and \"the\" and \"cat\" on the right.\n",
    "\n",
    "We will not cover the neural network or training process of Word2Vec here, but the point is that each word is represented by a **dense vector** of numbers. In simple terms: not a list with lots of 0's and some 1's, but a list full of complex numbers. \n",
    "\n",
    "<img src='../images/embedding.png' alt=\"Word embedding example\" width=\"400\">\n",
    "\n",
    "Note that the numbers in vectors in these kinds of models are sometimes called **weights** or **parameters**.\n",
    "\n",
    "The learning that goes on within the neural network is about nudging these word vectors (lists) so that they get better and better at *being predicted*.\n",
    "\n",
    "Bottom line: Word embeddings models yield vectors that are both much shorter, and much more information-rich than Bag of Words models."
   ]
  },
  {
   "cell_type": "code",
   "execution_count": 11,
   "metadata": {},
   "outputs": [
    {
     "name": "stdout",
     "output_type": "stream",
     "text": [
      "Requirement already satisfied: gensim in c:\\programdata\\anaconda3\\lib\\site-packages (4.3.3)\n",
      "Requirement already satisfied: numpy<2.0,>=1.18.5 in c:\\programdata\\anaconda3\\lib\\site-packages (from gensim) (1.26.4)\n",
      "Requirement already satisfied: scipy<1.14.0,>=1.7.0 in c:\\programdata\\anaconda3\\lib\\site-packages (from gensim) (1.13.1)\n",
      "Requirement already satisfied: smart-open>=1.8.1 in c:\\programdata\\anaconda3\\lib\\site-packages (from gensim) (5.2.1)\n",
      "Note: you may need to restart the kernel to use updated packages.\n"
     ]
    }
   ],
   "source": [
    "# Uncomment if you need to install gensim\n",
    "%pip install gensim"
   ]
  },
  {
   "cell_type": "code",
   "execution_count": 12,
   "metadata": {},
   "outputs": [
    {
     "name": "stdout",
     "output_type": "stream",
     "text": [
      "Embedding for the word 'cat':\n",
      " [ 0.07380505 -0.01533471 -0.04536613  0.06554051 -0.0486016  -0.01816018\n",
      "  0.0287658   0.00991874 -0.08285215 -0.09448818]\n"
     ]
    }
   ],
   "source": [
    "from gensim.models import Word2Vec\n",
    "\n",
    "# Sample sentences\n",
    "sentences = [\n",
    "    [\"the\", \"cat\", \"sat\", \"on\", \"the\", \"mat\"],\n",
    "    [\"dogs\", \"are\", \"better\", \"than\", \"cats\"],\n",
    "    [\"the\", \"dog\", \"chased\", \"the\", \"cat\"]\n",
    "]\n",
    "\n",
    "# Train a Word2Vec model\n",
    "model = Word2Vec(sentences, vector_size=10, window=2, min_count=1, sg=1)\n",
    "\n",
    "# Retrieve the vector for the word 'cat'\n",
    "cat_vector = model.wv['cat']\n",
    "\n",
    "print(\"Embedding for the word 'cat':\\n\", cat_vector)\n"
   ]
  },
  {
   "cell_type": "markdown",
   "metadata": {},
   "source": [
    "### Tokenization\n",
    "\n",
    "Note that we offered our Word2Vec model a bunch of separate strings just now. Effectively, we were doing a crude from of **tokenization**: splitting up a sentence into its individual (uncapitalized) words.\n",
    "\n",
    "Tokenization is a fundamental preprocessing step in the development of word embeddings. It acts as the bridge between raw text data and numerical models that can process and analyze language. \n",
    "\n",
    "Tokenization involves breaking down text into manageable, meaningful units--be they words, subwords, or characters. Often, it involves normalizing text by turning it into lower case, stemming or lemmatizing words, and removing stopwords (commonly used words, such as \"a\", \"the\", or \"and\").\n",
    "\n",
    "There are many packages you can use in Python to tokenize a text. Here's one from NLTK:"
   ]
  },
  {
   "cell_type": "code",
   "execution_count": 14,
   "metadata": {},
   "outputs": [
    {
     "name": "stderr",
     "output_type": "stream",
     "text": [
      "[nltk_data] Downloading package punkt to\n",
      "[nltk_data]     C:\\Users\\annik\\AppData\\Roaming\\nltk_data...\n",
      "[nltk_data]   Package punkt is already up-to-date!\n"
     ]
    },
    {
     "ename": "LookupError",
     "evalue": "\n**********************************************************************\n  Resource \u001b[93mpunkt_tab\u001b[0m not found.\n  Please use the NLTK Downloader to obtain the resource:\n\n  \u001b[31m>>> import nltk\n  >>> nltk.download('punkt_tab')\n  \u001b[0m\n  For more information see: https://www.nltk.org/data.html\n\n  Attempted to load \u001b[93mtokenizers/punkt_tab/english/\u001b[0m\n\n  Searched in:\n    - 'C:\\\\Users\\\\annik/nltk_data'\n    - 'C:\\\\ProgramData\\\\anaconda3\\\\nltk_data'\n    - 'C:\\\\ProgramData\\\\anaconda3\\\\share\\\\nltk_data'\n    - 'C:\\\\ProgramData\\\\anaconda3\\\\lib\\\\nltk_data'\n    - 'C:\\\\Users\\\\annik\\\\AppData\\\\Roaming\\\\nltk_data'\n    - 'C:\\\\nltk_data'\n    - 'D:\\\\nltk_data'\n    - 'E:\\\\nltk_data'\n**********************************************************************\n",
     "output_type": "error",
     "traceback": [
      "\u001b[1;31m---------------------------------------------------------------------------\u001b[0m",
      "\u001b[1;31mLookupError\u001b[0m                               Traceback (most recent call last)",
      "Cell \u001b[1;32mIn[14], line 10\u001b[0m\n\u001b[0;32m      7\u001b[0m \u001b[38;5;66;03m# Example text\u001b[39;00m\n\u001b[0;32m      8\u001b[0m text \u001b[38;5;241m=\u001b[39m \u001b[38;5;124m\"\u001b[39m\u001b[38;5;124mThe cat sat on the mat\u001b[39m\u001b[38;5;124m\"\u001b[39m\n\u001b[1;32m---> 10\u001b[0m word_tokenize(text)\n",
      "File \u001b[1;32mC:\\ProgramData\\anaconda3\\Lib\\site-packages\\nltk\\tokenize\\__init__.py:142\u001b[0m, in \u001b[0;36mword_tokenize\u001b[1;34m(text, language, preserve_line)\u001b[0m\n\u001b[0;32m    127\u001b[0m \u001b[38;5;28;01mdef\u001b[39;00m \u001b[38;5;21mword_tokenize\u001b[39m(text, language\u001b[38;5;241m=\u001b[39m\u001b[38;5;124m\"\u001b[39m\u001b[38;5;124menglish\u001b[39m\u001b[38;5;124m\"\u001b[39m, preserve_line\u001b[38;5;241m=\u001b[39m\u001b[38;5;28;01mFalse\u001b[39;00m):\n\u001b[0;32m    128\u001b[0m \u001b[38;5;250m    \u001b[39m\u001b[38;5;124;03m\"\"\"\u001b[39;00m\n\u001b[0;32m    129\u001b[0m \u001b[38;5;124;03m    Return a tokenized copy of *text*,\u001b[39;00m\n\u001b[0;32m    130\u001b[0m \u001b[38;5;124;03m    using NLTK's recommended word tokenizer\u001b[39;00m\n\u001b[1;32m   (...)\u001b[0m\n\u001b[0;32m    140\u001b[0m \u001b[38;5;124;03m    :type preserve_line: bool\u001b[39;00m\n\u001b[0;32m    141\u001b[0m \u001b[38;5;124;03m    \"\"\"\u001b[39;00m\n\u001b[1;32m--> 142\u001b[0m     sentences \u001b[38;5;241m=\u001b[39m [text] \u001b[38;5;28;01mif\u001b[39;00m preserve_line \u001b[38;5;28;01melse\u001b[39;00m sent_tokenize(text, language)\n\u001b[0;32m    143\u001b[0m     \u001b[38;5;28;01mreturn\u001b[39;00m [\n\u001b[0;32m    144\u001b[0m         token \u001b[38;5;28;01mfor\u001b[39;00m sent \u001b[38;5;129;01min\u001b[39;00m sentences \u001b[38;5;28;01mfor\u001b[39;00m token \u001b[38;5;129;01min\u001b[39;00m _treebank_word_tokenizer\u001b[38;5;241m.\u001b[39mtokenize(sent)\n\u001b[0;32m    145\u001b[0m     ]\n",
      "File \u001b[1;32mC:\\ProgramData\\anaconda3\\Lib\\site-packages\\nltk\\tokenize\\__init__.py:119\u001b[0m, in \u001b[0;36msent_tokenize\u001b[1;34m(text, language)\u001b[0m\n\u001b[0;32m    109\u001b[0m \u001b[38;5;28;01mdef\u001b[39;00m \u001b[38;5;21msent_tokenize\u001b[39m(text, language\u001b[38;5;241m=\u001b[39m\u001b[38;5;124m\"\u001b[39m\u001b[38;5;124menglish\u001b[39m\u001b[38;5;124m\"\u001b[39m):\n\u001b[0;32m    110\u001b[0m \u001b[38;5;250m    \u001b[39m\u001b[38;5;124;03m\"\"\"\u001b[39;00m\n\u001b[0;32m    111\u001b[0m \u001b[38;5;124;03m    Return a sentence-tokenized copy of *text*,\u001b[39;00m\n\u001b[0;32m    112\u001b[0m \u001b[38;5;124;03m    using NLTK's recommended sentence tokenizer\u001b[39;00m\n\u001b[1;32m   (...)\u001b[0m\n\u001b[0;32m    117\u001b[0m \u001b[38;5;124;03m    :param language: the model name in the Punkt corpus\u001b[39;00m\n\u001b[0;32m    118\u001b[0m \u001b[38;5;124;03m    \"\"\"\u001b[39;00m\n\u001b[1;32m--> 119\u001b[0m     tokenizer \u001b[38;5;241m=\u001b[39m _get_punkt_tokenizer(language)\n\u001b[0;32m    120\u001b[0m     \u001b[38;5;28;01mreturn\u001b[39;00m tokenizer\u001b[38;5;241m.\u001b[39mtokenize(text)\n",
      "File \u001b[1;32mC:\\ProgramData\\anaconda3\\Lib\\site-packages\\nltk\\tokenize\\__init__.py:105\u001b[0m, in \u001b[0;36m_get_punkt_tokenizer\u001b[1;34m(language)\u001b[0m\n\u001b[0;32m     96\u001b[0m \u001b[38;5;129m@functools\u001b[39m\u001b[38;5;241m.\u001b[39mlru_cache\n\u001b[0;32m     97\u001b[0m \u001b[38;5;28;01mdef\u001b[39;00m \u001b[38;5;21m_get_punkt_tokenizer\u001b[39m(language\u001b[38;5;241m=\u001b[39m\u001b[38;5;124m\"\u001b[39m\u001b[38;5;124menglish\u001b[39m\u001b[38;5;124m\"\u001b[39m):\n\u001b[0;32m     98\u001b[0m \u001b[38;5;250m    \u001b[39m\u001b[38;5;124;03m\"\"\"\u001b[39;00m\n\u001b[0;32m     99\u001b[0m \u001b[38;5;124;03m    A constructor for the PunktTokenizer that utilizes\u001b[39;00m\n\u001b[0;32m    100\u001b[0m \u001b[38;5;124;03m    a lru cache for performance.\u001b[39;00m\n\u001b[1;32m   (...)\u001b[0m\n\u001b[0;32m    103\u001b[0m \u001b[38;5;124;03m    :type language: str\u001b[39;00m\n\u001b[0;32m    104\u001b[0m \u001b[38;5;124;03m    \"\"\"\u001b[39;00m\n\u001b[1;32m--> 105\u001b[0m     \u001b[38;5;28;01mreturn\u001b[39;00m PunktTokenizer(language)\n",
      "File \u001b[1;32mC:\\ProgramData\\anaconda3\\Lib\\site-packages\\nltk\\tokenize\\punkt.py:1744\u001b[0m, in \u001b[0;36mPunktTokenizer.__init__\u001b[1;34m(self, lang)\u001b[0m\n\u001b[0;32m   1742\u001b[0m \u001b[38;5;28;01mdef\u001b[39;00m \u001b[38;5;21m__init__\u001b[39m(\u001b[38;5;28mself\u001b[39m, lang\u001b[38;5;241m=\u001b[39m\u001b[38;5;124m\"\u001b[39m\u001b[38;5;124menglish\u001b[39m\u001b[38;5;124m\"\u001b[39m):\n\u001b[0;32m   1743\u001b[0m     PunktSentenceTokenizer\u001b[38;5;241m.\u001b[39m\u001b[38;5;21m__init__\u001b[39m(\u001b[38;5;28mself\u001b[39m)\n\u001b[1;32m-> 1744\u001b[0m     \u001b[38;5;28mself\u001b[39m\u001b[38;5;241m.\u001b[39mload_lang(lang)\n",
      "File \u001b[1;32mC:\\ProgramData\\anaconda3\\Lib\\site-packages\\nltk\\tokenize\\punkt.py:1749\u001b[0m, in \u001b[0;36mPunktTokenizer.load_lang\u001b[1;34m(self, lang)\u001b[0m\n\u001b[0;32m   1746\u001b[0m \u001b[38;5;28;01mdef\u001b[39;00m \u001b[38;5;21mload_lang\u001b[39m(\u001b[38;5;28mself\u001b[39m, lang\u001b[38;5;241m=\u001b[39m\u001b[38;5;124m\"\u001b[39m\u001b[38;5;124menglish\u001b[39m\u001b[38;5;124m\"\u001b[39m):\n\u001b[0;32m   1747\u001b[0m     \u001b[38;5;28;01mfrom\u001b[39;00m \u001b[38;5;21;01mnltk\u001b[39;00m\u001b[38;5;21;01m.\u001b[39;00m\u001b[38;5;21;01mdata\u001b[39;00m \u001b[38;5;28;01mimport\u001b[39;00m find\n\u001b[1;32m-> 1749\u001b[0m     lang_dir \u001b[38;5;241m=\u001b[39m find(\u001b[38;5;124mf\u001b[39m\u001b[38;5;124m\"\u001b[39m\u001b[38;5;124mtokenizers/punkt_tab/\u001b[39m\u001b[38;5;132;01m{\u001b[39;00mlang\u001b[38;5;132;01m}\u001b[39;00m\u001b[38;5;124m/\u001b[39m\u001b[38;5;124m\"\u001b[39m)\n\u001b[0;32m   1750\u001b[0m     \u001b[38;5;28mself\u001b[39m\u001b[38;5;241m.\u001b[39m_params \u001b[38;5;241m=\u001b[39m load_punkt_params(lang_dir)\n\u001b[0;32m   1751\u001b[0m     \u001b[38;5;28mself\u001b[39m\u001b[38;5;241m.\u001b[39m_lang \u001b[38;5;241m=\u001b[39m lang\n",
      "File \u001b[1;32mC:\\ProgramData\\anaconda3\\Lib\\site-packages\\nltk\\data.py:579\u001b[0m, in \u001b[0;36mfind\u001b[1;34m(resource_name, paths)\u001b[0m\n\u001b[0;32m    577\u001b[0m sep \u001b[38;5;241m=\u001b[39m \u001b[38;5;124m\"\u001b[39m\u001b[38;5;124m*\u001b[39m\u001b[38;5;124m\"\u001b[39m \u001b[38;5;241m*\u001b[39m \u001b[38;5;241m70\u001b[39m\n\u001b[0;32m    578\u001b[0m resource_not_found \u001b[38;5;241m=\u001b[39m \u001b[38;5;124mf\u001b[39m\u001b[38;5;124m\"\u001b[39m\u001b[38;5;130;01m\\n\u001b[39;00m\u001b[38;5;132;01m{\u001b[39;00msep\u001b[38;5;132;01m}\u001b[39;00m\u001b[38;5;130;01m\\n\u001b[39;00m\u001b[38;5;132;01m{\u001b[39;00mmsg\u001b[38;5;132;01m}\u001b[39;00m\u001b[38;5;130;01m\\n\u001b[39;00m\u001b[38;5;132;01m{\u001b[39;00msep\u001b[38;5;132;01m}\u001b[39;00m\u001b[38;5;130;01m\\n\u001b[39;00m\u001b[38;5;124m\"\u001b[39m\n\u001b[1;32m--> 579\u001b[0m \u001b[38;5;28;01mraise\u001b[39;00m \u001b[38;5;167;01mLookupError\u001b[39;00m(resource_not_found)\n",
      "\u001b[1;31mLookupError\u001b[0m: \n**********************************************************************\n  Resource \u001b[93mpunkt_tab\u001b[0m not found.\n  Please use the NLTK Downloader to obtain the resource:\n\n  \u001b[31m>>> import nltk\n  >>> nltk.download('punkt_tab')\n  \u001b[0m\n  For more information see: https://www.nltk.org/data.html\n\n  Attempted to load \u001b[93mtokenizers/punkt_tab/english/\u001b[0m\n\n  Searched in:\n    - 'C:\\\\Users\\\\annik/nltk_data'\n    - 'C:\\\\ProgramData\\\\anaconda3\\\\nltk_data'\n    - 'C:\\\\ProgramData\\\\anaconda3\\\\share\\\\nltk_data'\n    - 'C:\\\\ProgramData\\\\anaconda3\\\\lib\\\\nltk_data'\n    - 'C:\\\\Users\\\\annik\\\\AppData\\\\Roaming\\\\nltk_data'\n    - 'C:\\\\nltk_data'\n    - 'D:\\\\nltk_data'\n    - 'E:\\\\nltk_data'\n**********************************************************************\n"
     ]
    }
   ],
   "source": [
    "import nltk\n",
    "from nltk.tokenize import word_tokenize\n",
    "\n",
    "# Downloading the Punkt tokenizer models for NLTK\n",
    "nltk.download('punkt')\n",
    "\n",
    "# Example text\n",
    "text = \"The cat sat on the mat\"\n",
    "\n",
    "word_tokenize(text)"
   ]
  },
  {
   "cell_type": "markdown",
   "metadata": {},
   "source": [
    "### Visualizing Word Embeddings\n",
    " \n",
    "Let's return to our word embeddings. The useful thing about these embeddings is that words (or really, tokens) with similar vectors have similar meanings. In fact, particular \"directions\" in the embedding space turn out to be associated with particular types of meaning. For instance, word embedding directions capture things like tenses, gender, or country-capital relations.\n",
    "\n",
    "<img src='../images/vector.png' alt=\"word embeddings vectors\" width=\"600\">\n",
    "\n",
    "You may be asking: how are we visualizing this? After all, when we work with word embeddings, we are dealing with high-dimension space (in the code example above: 10 dimensions). This is impossible to visualize!\n",
    "\n",
    "However, we can reduce these dimensions using algorithms such as Principle Comonent Analysis (PCA)."
   ]
  },
  {
   "cell_type": "markdown",
   "metadata": {},
   "source": [
    "Using PCA, we will reduce the dimensionality of our 10-dimensional words to 2 dimensions, allowing us to visualize them in a 2-dimensional graph."
   ]
  },
  {
   "cell_type": "code",
   "execution_count": 15,
   "metadata": {},
   "outputs": [
    {
     "data": {
      "image/png": "[encoded data removed]",
      "text/plain": [
       "<Figure size 1000x600 with 1 Axes>"
      ]
     },
     "metadata": {},
     "output_type": "display_data"
    }
   ],
   "source": [
    "import matplotlib.pyplot as plt\n",
    "from sklearn.decomposition import PCA\n",
    "\n",
    "# Retrieve the vocabulary of the model\n",
    "words = list(model.wv.index_to_key)\n",
    "\n",
    "# Retrieve the embeddings of the words\n",
    "embeddings = [model.wv[word] for word in words]\n",
    "\n",
    "# Perform PCA to reduce dimensions to 2D\n",
    "pca = PCA(n_components=2)\n",
    "result = pca.fit_transform(embeddings)\n",
    "\n",
    "# Create a scatter plot of the projection\n",
    "plt.figure(figsize=(10, 6))\n",
    "plt.scatter(result[:, 0], result[:, 1])\n",
    "\n",
    "for i, word in enumerate(words):\n",
    "    plt.annotate(word, xy=(result[i, 0], result[i, 1]))\n",
    "\n",
    "plt.title('Word Embeddings Visualized in 2D Space')\n",
    "plt.xlabel('PCA Component 1')\n",
    "plt.ylabel('PCA Component 2')\n",
    "plt.show()\n"
   ]
  },
  {
   "cell_type": "markdown",
   "metadata": {},
   "source": [
    "🔔 **Question**: Note that this model was only trained on three sentences:\n",
    "\n",
    "    \"the cat sat on the mat\"\n",
    "    \"dogs are better than cats\"\n",
    "    \"the dog chased the cat\"\n",
    "    \n",
    "Given what you know about how word embeddings work, can you see why the embeddings are clustering the way they are?"
   ]
  },
  {
   "cell_type": "markdown",
   "metadata": {},
   "source": [
    "### Word Embeddings in Action\n",
    "\n",
    "Let's now download a word embeddings model called [GloVe](https://nlp.stanford.edu/projects/glove/) (2014) which was **pre-trained** based on 2 billion tweets. This model has a vocabulary of 1.2 million words (instead of the 12 words we trained our little model on above), so we can expect the word embeddings to have captured a lot of semantic and syntactic information."
   ]
  },
  {
   "cell_type": "markdown",
   "metadata": {},
   "source": [
    "Let's use PCA to visualize the vectors for some words of our choice that we assume might be related, like \"king\", \"queen\", \"man\", and \"woman\".\n",
    "\n",
    "💡 **Tip**: Feel free to play around with the words in `words` to see where they end up in the visualization!"
   ]
  },
  {
   "cell_type": "code",
   "execution_count": 17,
   "metadata": {},
   "outputs": [
    {
     "data": {
      "image/png": "[encoded data removed]",
      "text/plain": [
       "<Figure size 1000x600 with 1 Axes>"
      ]
     },
     "metadata": {},
     "output_type": "display_data"
    }
   ],
   "source": [
    "import gensim.downloader as api\n",
    "import matplotlib.pyplot as plt\n",
    "from sklearn.decomposition import PCA\n",
    "\n",
    "# Download a word embedding model\n",
    "model = api.load(\"glove-wiki-gigaword-50\")\n",
    "\n",
    "# Select words you're interested in\n",
    "words = [\"king\", \"queen\", \"man\", \"woman\", \"paris\", \"berlin\", \"france\", \"germany\"]\n",
    "\n",
    "# Get corresponding vectors\n",
    "word_vectors = [model[word] for word in words]\n",
    "\n",
    "# Perform PCA to reduce dimensions to 2D\n",
    "pca = PCA(n_components=2)\n",
    "result = pca.fit_transform(word_vectors)\n",
    "\n",
    "# Create a scatter plot of the projection\n",
    "plt.figure(figsize=(10, 6))\n",
    "plt.scatter(result[:, 0], result[:, 1])\n",
    "\n",
    "for i, word in enumerate(words):\n",
    "    plt.annotate(word, xy=(result[i, 0]+0.01, result[i, 1]+0.01))\n",
    "\n",
    "plt.title('Word Embeddings Visualized in 2D Space')\n",
    "plt.xlabel('PCA Component 1')\n",
    "plt.ylabel('PCA Component 2')\n",
    "plt.show()\n"
   ]
  },
  {
   "cell_type": "markdown",
   "metadata": {},
   "source": [
    "### Calculating With Embeddings\n",
    "\n",
    "The fact that similar words are captured by similar vectors also means we can do interesting calculations with them. Here's a famous example:\n",
    "\n",
    "`V(King) - V(man) + V(Woman) ~ V(Queen)`\n",
    "\n",
    "Subtracting the embedding vector of the word \"man\" from the word \"king\", while adding the embedding vector of the word \"woman\", results in a vector that approximates the vector for the word \"queen\".\n",
    "\n",
    "<img src='../images/word-alg.png' alt=\"word algebra example\" width=\"400\">"
   ]
  },
  {
   "cell_type": "markdown",
   "metadata": {},
   "source": [
    "Without getting too deep into the math behind this, one helpful intuition is that the **dot product** of two vectors can be thought of as a measure of how well they align. \n",
    "\n",
    "Geometrically, the dot product is positive when vectors point in similar diections, and negative if they don't.\n",
    "\n",
    "We can make use of this intuition to find out if an embedding model captures particular semantic dimensions. \n",
    "\n",
    "For instance, let's calculate the difference between the vectors for the words \"cats\" and \"cat\" (by subtracting one from the other). The intuition is we should get a vector that approximates the semantic dimension of **plurality**. We can then compare this vector to other words in singular or plural to check whether this intuition holds."
   ]
  },
  {
   "cell_type": "code",
   "execution_count": 18,
   "metadata": {},
   "outputs": [],
   "source": [
    "import gensim.downloader as api\n",
    "from scipy.spatial.distance import cosine\n",
    "\n",
    "# Calculate the \"plurality\" vector - like asking \"what differentiates \"cats\" from \"cat\"?\n",
    "plurality_vector = model['cats'] - model['cat']\n",
    "\n",
    "# Now, let's define some example singular and plural nouns for comparison\n",
    "singular_nouns = ['dog', 'house', 'car']\n",
    "plural_nouns = ['dogs', 'houses', 'cars']\n",
    "\n",
    "# Function to compute the cosine similarity (as dot product)\n",
    "# Note: Word2Vec embeddings are usually normalized, so dot product gives cosine similarity\n",
    "def compare_similarity(reference_vector, comparison_words):\n",
    "    similarities = {}\n",
    "    for word in comparison_words:\n",
    "        # Compute cosine similarity\n",
    "        similarity = 1 - cosine(reference_vector, model[word])\n",
    "        similarities[word] = similarity\n",
    "    return similarities\n",
    "\n",
    "# Compare the \"plurality\" vector against singular and plural nouns\n",
    "singular_similarities = compare_similarity(plurality_vector, singular_nouns)\n",
    "plural_similarities = compare_similarity(plurality_vector, plural_nouns)"
   ]
  },
  {
   "cell_type": "markdown",
   "metadata": {},
   "source": [
    "Let's visualize:"
   ]
  },
  {
   "cell_type": "code",
   "execution_count": 19,
   "metadata": {},
   "outputs": [
    {
     "data": {
      "image/png": "[encoded data removed]",
      "text/plain": [
       "<Figure size 1000x600 with 1 Axes>"
      ]
     },
     "metadata": {},
     "output_type": "display_data"
    }
   ],
   "source": [
    "import matplotlib.pyplot as plt\n",
    "\n",
    "# Data preparation for plotting\n",
    "labels = list(singular_similarities.keys()) + list(plural_similarities.keys())\n",
    "singular_scores = list(singular_similarities.values())\n",
    "plural_scores = list(plural_similarities.values())\n",
    "\n",
    "# Indices for singular and plural nouns on the x-axis\n",
    "x_singular = range(len(singular_similarities))\n",
    "x_plural = range(len(singular_similarities), len(singular_similarities) + len(plural_similarities))\n",
    "\n",
    "# Plotting\n",
    "plt.figure(figsize=(10, 6))\n",
    "plt.bar(x_singular, singular_scores, label='Singular Nouns')\n",
    "plt.bar(x_plural, plural_scores, label='Plural Nouns', color='orange')\n",
    "\n",
    "# Adding labels and title\n",
    "plt.xticks(range(len(labels)), labels, rotation=45)\n",
    "plt.ylabel('Similarity to \"plurality\" vector')\n",
    "plt.title('Similarity of Singular vs. Plural Nouns to \"Plurality\" Vector')\n",
    "plt.legend()\n",
    "\n",
    "# Display the plot\n",
    "plt.tight_layout()\n",
    "plt.show()\n"
   ]
  },
  {
   "cell_type": "markdown",
   "metadata": {},
   "source": [
    "Looks like the plural words do align more with the direction of our \"plurality\" vector!\n",
    "\n",
    "🔔 **Question:** Can you think of another certain dimension of meaning that might be encoded across the vector space of the embeddings? For instance, what would happen when we compute `model['king'] - model['queen']`?"
   ]
  },
  {
   "cell_type": "markdown",
   "metadata": {},
   "source": [
    "### So.. That Seems Great?\n",
    "\n",
    "Word embeddings capture a lot more information than Bag of Words models. But there is still a lot of information that is not being captured. \n",
    "\n",
    "For instance, while word embeddings capture word-level relationships, they don't account for **word order** or **word ambiguity**. This is where the transformer architecture comes in."
   ]
  },
  {
   "cell_type": "markdown",
   "metadata": {},
   "source": [
    "🔔 **Question**: Time for a recap. How would you describe a word embedding? Can we have video or image embeddings, and if so, what would those embeddings capture?"
   ]
  },
  {
   "cell_type": "markdown",
   "metadata": {
    "tags": []
   },
   "source": [
    "<a id='transf'></a>\n",
    "# The Transformer Architecture\n",
    "\n",
    "<img src='../images/LM-history-3.png' alt=\"Language Modeling history\" width=\"600\">\n",
    "\n",
    "The Transformer architecture, introduced in the paper \"Attention Is All You Need\" by Vaswani et al. in 2017, addresses the issues of word ambiguity and and word order.\n",
    "\n",
    "Where traditional word embedding vectors are static--each word type has one vector associated with it--the transformer architecture allows us to create more dynamic vectors that are created by taking into account the surrounding tokens of some target token. \n",
    "\n",
    "For now, note that this is useful because words have different meanings based on the context they are in. Think of the word \"model\" (as in \"language model\" versus \"fashion model\".) Transformers help to disambiguate these two words."
   ]
  },
  {
   "cell_type": "markdown",
   "metadata": {
    "tags": []
   },
   "source": [
    "## Encoders and Decoders\n",
    "\n",
    "There are a few 'flavors' of the Transformer architecture, meant for different purposes.\n",
    "\n",
    "| Type | Example | Model |\n",
    "| -----| ------- | ----- |\n",
    "| Sequence to fixed | E-mail classification | Encoder |\n",
    "| Fixed to sequence | Image description | Decoder | \n",
    "| Sequence to sequence | Translation | Encoder-Decoder |\n",
    "\n",
    "The original Transformer architecture was initially designed primarily for the task of **machine translation**, making use of the encoder-decoder model.\n",
    "\n",
    "So what do these components do?\n",
    "\n",
    "- **Encoder**: Processes the input data (like a sentence in a text). It analyzes and understands the context and relationships between words or tokens in the input. It transforms the input into an intermediate representation that captures this information.\n",
    "\n",
    "- **Decoder**: Takes the intermediate representation from the encoder and generates output data (like the translated text in another language).\n",
    "\n",
    "<img src='../images/bert-gpt.webp' alt=\"Architecture of GPT vs BERT\" width=\"600\" height=\"700\">\n",
    "\n",
    "Vaswani et al's paper stacks 6 encoders/decoders on top of each other. This is not a magic number; it's just a hyperparameter. "
   ]
  },
  {
   "cell_type": "markdown",
   "metadata": {},
   "source": [
    "### Context Size\n",
    "\n",
    "Transformer models ingest text data. But how much text data can they handle at a time? \n",
    "\n",
    "The **context size** of a model, also known as the maximum sequence length, determines how many tokens a model can process at once in a single input. This limit is crucial because it defines the maximum extent of context that the model can consider for tasks such as sentence prediction and question answering.\n",
    "\n",
    "For comparison: BERT's context size is 512 tokens, and GPT2's is 1024 tokens."
   ]
  },
  {
   "cell_type": "markdown",
   "metadata": {},
   "source": [
    "## Enter BERT\n",
    "\n",
    "Released in 2018 by researchers at Google, BERT (Bidirectional Encoder Representations from Transformers) is an early LLM built on the transformer architecture, and was trained on the entirity of Wikipedia and [BookCorpus](https://en.wikipedia.org/wiki/BookCorpus) from 7000 unpublished books of various genres. These two sources include 3.3 Billion words in total.\n",
    "\n",
    "### BERT is a Foundation Model\n",
    "\n",
    "BERT is a so-called **foundation model**: a model that is trained on broad data, so that it can be applied across a wide range of use cases and downstream tasks like question answering, natural language inference, and other language tasks. \n",
    "\n",
    "This means it just needs to encode the language representations so that it could be used for other tasks. For instance, it was used in powering [Google Search](https://blog.google/products/search/search-language-understanding-bert/). Here's an example of how that was useful: In the query \"2019 brazil traveler to usa need a visa\", older algorithms might miss the subtlety of the relationship between \"brazil\" and \"traveler.\" BERT helps Google recognize that the searcher is asking whether a traveler from Brazil needs a visa to go to the USA, leading to more relevant results.\n",
    "\n",
    "Because of this, BERT is an \"encoder-only\" model. Individual researchers could add a decoder while doing specific tasks; this decoder could be anything based on your task."
   ]
  },
  {
   "cell_type": "markdown",
   "metadata": {},
   "source": [
    "## Encoders and Decoders: Self-Attention and Feedforward\n",
    "\n",
    "Let's talk a bit more about encoders and decoders. They can be further broken down in 2 sublayers: the **self-attention** and **feedforward** layer. They work slightly differenty in encoders and decoders, but we will simplify things a bit and just talk about the general idea behind these two components during training.\n",
    "\n",
    "<img src='../images/bert-gpt.webp' alt=\"Architecture of GPT vs BERT\" width=\"600\" height=\"700\">\n",
    "\n",
    "### Positional Embeddings\n",
    "\n",
    "In the first step of a Transformer model, the tokens of a corpus are turned into an **embedding matrix**--just like in Word2Vec. \n",
    "\n",
    "First, input text is tokenized. These tokens are then mapped to vectors (a list of numbers) using the embedding layer. The token embeddings are then typically added onto **positional embeddings** which incorporate information about the position of each token in the sequence.\n",
    "\n",
    "<img src='../images/pos-emb.png' alt=\"Positional embeddings added to token embeddings\" width=\"400\">\n",
    "\n",
    "If the model is being trained from scratch, these initial embeddings start with random weights--like in Word2Vec. But unlike Word2Vec, the weights of these transformer embeddings are updated during training based on new principles: the **self-attention mechanisms** and **feedforward layers** in the model."
   ]
  },
  {
   "cell_type": "markdown",
   "metadata": {},
   "source": [
    "### Self-Attention\n",
    "\n",
    "Self-attention uses so-called **attention heads**, which you can think of as mechanisms that produce yet more vectors. Their goal is to refine the initial embeddings by capturing information from contextual tokens.\n",
    "\n",
    "The self-attention layer in the encoder considers each word it processes in the context of every other word in the same sentence, regardless of their position or distance from each other. This is achieved by enabling every part of the sentence to \"attend to\" or focus on, all other parts simultaneously. As a result, this mechanism captures the dependencies and relationships between words, ensuring that even words far apart in a sentence can influence the overall understanding of the text. \n",
    "\n",
    "<img src='../images/embedding-attention.png' alt=\"Word embeddings with attention\" width=\"400\">\n",
    "\n",
    "This effectively allows us to consider the **context** in which a word is used. After all, the usage of words changes based on their context. For instance, the word \"bank\" in \"river bank\" and in \"bank robber\" mean different things, and require different vector representations. This was impossible before attention mechanisms came along.\n",
    "\n",
    "In other words: a well-trained attention head calculates what you need to add to the generic embedding in order to move it into a more specific direction, so that \"bank\" in \"bank robber\" has a different direction than \"bank\" in \"river bank\".\n",
    "\n",
    "<img src='../images/vec-disambiguation.png' alt=\"Disambiguating words\" width=\"400\">\n",
    "\n",
    "A transformer typically has many attention heads working simultaneously--early models used 12 attention heads per layer. The intuition behind having multiple attention heads is that one head might focus on the syntactic relationship between words in a sentence, while another might capture semantic relationships.\n",
    "\n",
    "Take an (oversimplified) example: one attention head might be looking at nouns that ingest the meaning of corresponding adjectives in the sentence \"the fluffy pink cloud\". The head will look at tokens before the word \"cloud\" to check whether there are adjectives preceding it. If so, it will help update the embedding for this word \"cloud\" to include information about these prior words."
   ]
  },
  {
   "cell_type": "markdown",
   "metadata": {},
   "source": [
    "### Feedforward Layer\n",
    "\n",
    "The **feedforward layer** in the encoder is a neural network that applies a combination of linear and nonlinear transformations to the output of the previous layer. This is done identically and independently for each position in the sequence. The purpose of this layer is to transform the processed information in a way that captures more complex patterns and relationships.\n",
    "\n",
    "Note that the feedforward layer introduces non-linearity into the model. Without them, the transformer would consist only of attention layers, which are essentially linear operations (a series of dot products and softmax functions). "
   ]
  },
  {
   "cell_type": "markdown",
   "metadata": {},
   "source": [
    "### Parallelization\n",
    "\n",
    "One of the big advantages of Transformers over previous neural network models that we are not covering here (such as RNNs and LSTMs) is that they process the entire input sequence at once. \n",
    "The lack of sequential dependency means that the model can process all elements of the input in parallel during training, which dramatically increases computational efficiency.\n",
    "\n",
    "Not that \"parallel\" doesn't mean each calculation is isolated; rather, each calculation (while independent in terms of execution) can access and incorporate information from all other calculations. The attention scores between elements in the sequence are calculated using matrix multiplications, which are highly optimized for parallel computation, especially on modern hardware like GPUs or TPUs."
   ]
  },
  {
   "cell_type": "markdown",
   "metadata": {},
   "source": [
    "### Calculating Loss \n",
    "\n",
    "How does a transformer model actually learn?\n",
    "\n",
    "At the end of the Feedforward layer, the model's predictions (also called logits) are compared with the actual next tokens in the input sequence. A common choice for this task is **cross-entropy loss**, which measures how well the predicted probability distribution matches the actual distribution (the true next tokens).\n",
    "\n",
    "After calculating the loss, gradients of this loss with respect to all the model weights (i.e., the embedding vectors, attention block vectors, feedforward vectors, and any other learnable parameters in the model) are computed using **backpropagation**. This involves applying the chain rule of calculus to find out how changes in each weight would affect the loss, working backward from the output layer to the initial embedding layer.\n",
    "\n",
    "With the gradients computed, the model's weights are updated to minimize the loss."
   ]
  },
  {
   "cell_type": "markdown",
   "metadata": {},
   "source": [
    "🔔 **Question**: What do the terms 'attention' and 'context' mean when it comes to transformer architecture? How do we distinguish between how those words are used to refer to human capacities?"
   ]
  },
  {
   "cell_type": "markdown",
   "metadata": {},
   "source": [
    "## Visualizing Self-Attention using BertViz\n",
    "\n",
    "In order to get a better sense of the attention mechanism, we can use a package called BertViz. It offers several ways to visualize the process."
   ]
  },
  {
   "cell_type": "code",
   "execution_count": 23,
   "metadata": {
    "scrolled": true
   },
   "outputs": [
    {
     "name": "stdout",
     "output_type": "stream",
     "text": [
      "Collecting bertviz\n",
      "  Using cached bertviz-1.4.0-py3-none-any.whl.metadata (19 kB)\n",
      "Collecting transformers\n",
      "  Using cached transformers-4.49.0-py3-none-any.whl.metadata (44 kB)\n",
      "Collecting torch>=1.0 (from bertviz)\n",
      "  Using cached torch-2.6.0-cp312-cp312-win_amd64.whl.metadata (28 kB)\n",
      "Requirement already satisfied: tqdm in c:\\programdata\\anaconda3\\lib\\site-packages (from bertviz) (4.66.5)\n",
      "Collecting boto3 (from bertviz)\n",
      "  Using cached boto3-1.36.24-py3-none-any.whl.metadata (6.7 kB)\n",
      "Requirement already satisfied: requests in c:\\programdata\\anaconda3\\lib\\site-packages (from bertviz) (2.32.3)\n",
      "Requirement already satisfied: regex in c:\\programdata\\anaconda3\\lib\\site-packages (from bertviz) (2024.9.11)\n",
      "Requirement already satisfied: sentencepiece in c:\\programdata\\anaconda3\\lib\\site-packages (from bertviz) (0.2.0)\n",
      "Requirement already satisfied: filelock in c:\\programdata\\anaconda3\\lib\\site-packages (from transformers) (3.13.1)\n",
      "Collecting huggingface-hub<1.0,>=0.26.0 (from transformers)\n",
      "  Using cached huggingface_hub-0.29.1-py3-none-any.whl.metadata (13 kB)\n",
      "Requirement already satisfied: numpy>=1.17 in c:\\programdata\\anaconda3\\lib\\site-packages (from transformers) (1.26.4)\n",
      "Requirement already satisfied: packaging>=20.0 in c:\\programdata\\anaconda3\\lib\\site-packages (from transformers) (24.1)\n",
      "Requirement already satisfied: pyyaml>=5.1 in c:\\programdata\\anaconda3\\lib\\site-packages (from transformers) (6.0.1)\n",
      "Collecting tokenizers<0.22,>=0.21 (from transformers)\n",
      "  Using cached tokenizers-0.21.0-cp39-abi3-win_amd64.whl.metadata (6.9 kB)\n",
      "Collecting safetensors>=0.4.1 (from transformers)\n",
      "  Using cached safetensors-0.5.2-cp38-abi3-win_amd64.whl.metadata (3.9 kB)\n",
      "Requirement already satisfied: fsspec>=2023.5.0 in c:\\programdata\\anaconda3\\lib\\site-packages (from huggingface-hub<1.0,>=0.26.0->transformers) (2024.6.1)\n",
      "Requirement already satisfied: typing-extensions>=3.7.4.3 in c:\\programdata\\anaconda3\\lib\\site-packages (from huggingface-hub<1.0,>=0.26.0->transformers) (4.11.0)\n",
      "Requirement already satisfied: networkx in c:\\programdata\\anaconda3\\lib\\site-packages (from torch>=1.0->bertviz) (3.3)\n",
      "Requirement already satisfied: jinja2 in c:\\programdata\\anaconda3\\lib\\site-packages (from torch>=1.0->bertviz) (3.1.4)\n",
      "Requirement already satisfied: setuptools in c:\\programdata\\anaconda3\\lib\\site-packages (from torch>=1.0->bertviz) (75.1.0)\n",
      "Collecting sympy==1.13.1 (from torch>=1.0->bertviz)\n",
      "  Using cached sympy-1.13.1-py3-none-any.whl.metadata (12 kB)\n",
      "Requirement already satisfied: mpmath<1.4,>=1.1.0 in c:\\programdata\\anaconda3\\lib\\site-packages (from sympy==1.13.1->torch>=1.0->bertviz) (1.3.0)\n",
      "Requirement already satisfied: colorama in c:\\programdata\\anaconda3\\lib\\site-packages (from tqdm->bertviz) (0.4.6)\n",
      "Collecting botocore<1.37.0,>=1.36.24 (from boto3->bertviz)\n",
      "  Using cached botocore-1.36.24-py3-none-any.whl.metadata (5.7 kB)\n",
      "Requirement already satisfied: jmespath<2.0.0,>=0.7.1 in c:\\programdata\\anaconda3\\lib\\site-packages (from boto3->bertviz) (1.0.1)\n",
      "Collecting s3transfer<0.12.0,>=0.11.0 (from boto3->bertviz)\n",
      "  Using cached s3transfer-0.11.2-py3-none-any.whl.metadata (1.7 kB)\n",
      "Requirement already satisfied: charset-normalizer<4,>=2 in c:\\programdata\\anaconda3\\lib\\site-packages (from requests->bertviz) (3.3.2)\n",
      "Requirement already satisfied: idna<4,>=2.5 in c:\\programdata\\anaconda3\\lib\\site-packages (from requests->bertviz) (3.7)\n",
      "Requirement already satisfied: urllib3<3,>=1.21.1 in c:\\programdata\\anaconda3\\lib\\site-packages (from requests->bertviz) (2.2.3)\n",
      "Requirement already satisfied: certifi>=2017.4.17 in c:\\programdata\\anaconda3\\lib\\site-packages (from requests->bertviz) (2024.8.30)\n",
      "Requirement already satisfied: python-dateutil<3.0.0,>=2.1 in c:\\programdata\\anaconda3\\lib\\site-packages (from botocore<1.37.0,>=1.36.24->boto3->bertviz) (2.9.0.post0)\n",
      "Requirement already satisfied: MarkupSafe>=2.0 in c:\\programdata\\anaconda3\\lib\\site-packages (from jinja2->torch>=1.0->bertviz) (2.1.3)\n",
      "Requirement already satisfied: six>=1.5 in c:\\programdata\\anaconda3\\lib\\site-packages (from python-dateutil<3.0.0,>=2.1->botocore<1.37.0,>=1.36.24->boto3->bertviz) (1.16.0)\n",
      "Using cached bertviz-1.4.0-py3-none-any.whl (157 kB)\n",
      "Using cached transformers-4.49.0-py3-none-any.whl (10.0 MB)\n",
      "Using cached huggingface_hub-0.29.1-py3-none-any.whl (468 kB)\n",
      "Using cached safetensors-0.5.2-cp38-abi3-win_amd64.whl (303 kB)\n",
      "Using cached tokenizers-0.21.0-cp39-abi3-win_amd64.whl (2.4 MB)\n",
      "Using cached torch-2.6.0-cp312-cp312-win_amd64.whl (204.1 MB)\n",
      "Using cached sympy-1.13.1-py3-none-any.whl (6.2 MB)\n",
      "Using cached boto3-1.36.24-py3-none-any.whl (139 kB)\n",
      "Using cached botocore-1.36.24-py3-none-any.whl (13.4 MB)\n",
      "Using cached s3transfer-0.11.2-py3-none-any.whl (84 kB)\n",
      "Installing collected packages: sympy, safetensors, torch, huggingface-hub, botocore, tokenizers, s3transfer, transformers, boto3, bertviz\n",
      "  Attempting uninstall: sympy\n",
      "    Found existing installation: sympy 1.13.2\n",
      "    Uninstalling sympy-1.13.2:\n",
      "Note: you may need to restart the kernel to use updated packages.\n"
     ]
    },
    {
     "name": "stderr",
     "output_type": "stream",
     "text": [
      "ERROR: Could not install packages due to an OSError: [WinError 5] Access is denied: 'c:\\\\programdata\\\\anaconda3\\\\lib\\\\site-packages\\\\__pycache__\\\\isympy.cpython-312.pyc'\n",
      "Consider using the `--user` option or check the permissions.\n",
      "\n"
     ]
    }
   ],
   "source": [
    "# Uncomment this cell if you need to install\n",
    "%pip install bertviz transformers"
   ]
  },
  {
   "cell_type": "code",
   "execution_count": 25,
   "metadata": {},
   "outputs": [
    {
     "ename": "ModuleNotFoundError",
     "evalue": "No module named 'bertviz'",
     "output_type": "error",
     "traceback": [
      "\u001b[1;31m---------------------------------------------------------------------------\u001b[0m",
      "\u001b[1;31mModuleNotFoundError\u001b[0m                       Traceback (most recent call last)",
      "Cell \u001b[1;32mIn[25], line 1\u001b[0m\n\u001b[1;32m----> 1\u001b[0m \u001b[38;5;28;01mfrom\u001b[39;00m \u001b[38;5;21;01mbertviz\u001b[39;00m \u001b[38;5;28;01mimport\u001b[39;00m model_view, head_view\n\u001b[0;32m      2\u001b[0m \u001b[38;5;28;01mfrom\u001b[39;00m \u001b[38;5;21;01mtransformers\u001b[39;00m \u001b[38;5;28;01mimport\u001b[39;00m AutoTokenizer, AutoModelForSequenceClassification, utils\n\u001b[0;32m      4\u001b[0m utils\u001b[38;5;241m.\u001b[39mlogging\u001b[38;5;241m.\u001b[39mset_verbosity_error()  \u001b[38;5;66;03m# Suppress standard warnings\u001b[39;00m\n",
      "\u001b[1;31mModuleNotFoundError\u001b[0m: No module named 'bertviz'"
     ]
    }
   ],
   "source": [
    "from bertviz import model_view, head_view\n",
    "from transformers import AutoTokenizer, AutoModelForSequenceClassification, utils\n",
    "\n",
    "utils.logging.set_verbosity_error()  # Suppress standard warnings\n",
    "\n",
    "# Model and tokenizer initialization\n",
    "model_version = 'bert-base-uncased'\n",
    "model = AutoModelForSequenceClassification.from_pretrained(model_version, output_attentions=True)\n",
    "tokenizer = AutoTokenizer.from_pretrained(model_version)\n",
    "\n",
    "# Single sentence for processing\n",
    "sentence = \"The bank will not accept the deposit because it is full.\"\n",
    "\n",
    "# Tokenization and encoding the sentence\n",
    "inputs = tokenizer.encode_plus(sentence, return_tensors='pt')\n",
    "input_ids = inputs['input_ids']\n",
    "attention = model(input_ids)[-1]  # Get the attention tensors from the model\n",
    "\n",
    "# Convert input IDs to token list for visualization\n",
    "tokens = tokenizer.convert_ids_to_tokens(input_ids[0])"
   ]
  },
  {
   "cell_type": "markdown",
   "metadata": {},
   "source": [
    "### Model View\n",
    "\n",
    "This view shows how each attention head, in each layer, is focusing on different parts of the input sentence. **Click on the different heads to see the words and attention graph.**\n",
    "\n",
    "This focus is represented by lines or colors connecting different words or tokens, indicating where the model is 'paying attention' when processing each word.\n",
    "\n",
    "In simple terms, you're looking at what each part of the model considers important (or relevant) when interpreting a word in the context of the entire sentence."
   ]
  },
  {
   "cell_type": "code",
   "execution_count": 21,
   "metadata": {
    "scrolled": true
   },
   "outputs": [
    {
     "ename": "NameError",
     "evalue": "name 'model_view' is not defined",
     "output_type": "error",
     "traceback": [
      "\u001b[1;31m---------------------------------------------------------------------------\u001b[0m",
      "\u001b[1;31mNameError\u001b[0m                                 Traceback (most recent call last)",
      "Cell \u001b[1;32mIn[21], line 1\u001b[0m\n\u001b[1;32m----> 1\u001b[0m model_view(attention, tokens)\n",
      "\u001b[1;31mNameError\u001b[0m: name 'model_view' is not defined"
     ]
    }
   ],
   "source": [
    "model_view(attention, tokens)"
   ]
  },
  {
   "cell_type": "markdown",
   "metadata": {},
   "source": [
    "Note the `[CLS]` token, which is used as an aggregate representation of the entire input sequence for classification tasks. "
   ]
  },
  {
   "cell_type": "markdown",
   "metadata": {
    "tags": []
   },
   "source": [
    "<a id='gpt'></a>\n",
    "\n",
    "# Generating Text: Enter GPT\n",
    "\n",
    "<img src='../images/LM-history-4.png' alt=\"Language Modeling history\" width=\"600\">\n",
    "\n",
    "The great thing about Transformers is that they can be used for different purposes. While BERT is an encoder-only model, companies such as OpenAI began leveraging the Transformer architecture for a large-scale generative system.\n",
    "\n",
    "[GPT-1](https://en.wikipedia.org/wiki/Generative_pre-trained_transformer#Foundational_models) was introduced around the same time as BERT. OpenAI published an article entitled [\"Improving Language Understanding by Generative Pre-Training\"](https://openai.com/research/language-unsupervised) in which it introduced the first generative pre-trained transformer (GPT) system (\"GPT-1\"). GPT-1 was trained on [BookCorpus](https://en.wikipedia.org/wiki/BookCorpus) and has 117 million parameters. From there on, things escalate quickly:\n",
    "\n",
    "| Model | Parameter Size |\n",
    "| ----- | ------------ |\n",
    "| GPT-2 | 1.5 billion parameters |\n",
    "| GPT-3 | 175 billion parameters |\n",
    "| GPT-4 | > trillion parameters |\n",
    "\n",
    "GPT models are based on the **decoder** part of the original transformer architecture. Unlike the full transformer model that has both encoder and decoder components (used for tasks like translation), GPT only uses the decoder stack.\n",
    "\n",
    "<img src='../images/bert-gpt.webp' alt=\"Architecture of GPT vs BERT\" width=\"600\" height=\"700\">\n",
    "\n",
    "Why is that? GPT's primary function is to generate text sequentially, predicting the next word based on the previous words. This is a task well-suited to the decoder component of the transformer, which is inherently designed to generate sequences.\n",
    "\n",
    "### Context Size, Revisited\n",
    "\n",
    "Recall that the context size of a model determines how many tokens a model can process at once in a single input. The context size of GPT has rapidly increased:\n",
    "\n",
    "| Model | Context Size |\n",
    "| ----- | ------------ |\n",
    "| GPT-2 | 1024 tokens |\n",
    "| GPT-3 | 2048 - 4096 tokens |\n",
    "| GPT-4 | 8,000 - 128,000 tokens |\n",
    "\n",
    "This means that GPT4 can \"remember\" up to 128,000 tokens in a conversation. This includes both its own tokens, and the tokens from user prompts. \n",
    "\n",
    "Here's a simple example for a model predicting the next work with a context size of 5. It can only access the last 5 tokens when predicting the next token.\n",
    "\n",
    "<img src='../images/context-size-pred.png' alt=\"Example of model with context size of 5\" width=\"600\">\n",
    "\n",
    "\n",
    "### Next Token Prediction\n",
    "\n",
    "Note that that GPT's decision about which token comes next is based completely on the **last encoded token** in the sequence! The intuition behind this is that this token embedding will have captured all the relevant information from the tokens before it.\n",
    "\n",
    "The transformer output for the last token's position is transformed into a logits vector. These are raw prediction scores for each possible token in the model’s vocabulary. The logits are passed through a **softmax layer** to convert them into probabilities. The softmax function accentuates the highest logit, making it significantly higher in probability than the others. The token corresponding to the highest probability is chosen as the next token.\n",
    "\n",
    "Bigger models like GPT-4 Turbo use caching mechanisms to manage its large context window efficiently. This would involve maintaining relevant hidden states across more tokens while minimizing computational overhead.\n",
    "\n",
    "### Unidirectional Modeling\n",
    "\n",
    "Note that in the **self-attention mechanism** in GPT, each token can only attend to previous tokens in the sequence. This is known as causal or unidirectional language modeling, suitable for generating text. During training, we do not want the model to be able to \"cheat\" by looking at what tokens will be coming next. After all, during inference, it won't have access to these future tokens. \n",
    "\n",
    "<img src='../images/unidirectional.png' alt=\"Unidirectional language modeling\" width=\"600\" height=\"700\">\n",
    "\n",
    "During text generation, the model generates one token at a time, and for each new token, it recalculates the attention using all the tokens generated so far, including the new one.\n",
    "\n",
    "This means that GPT does not see \"prompts\" and \"responses\" like we do. It simply predicts the next token based on the input prompt, and **adds its own tokens to that input prompt at each step.**\n",
    "\n",
    "<img src='../images/GPT_sees.png' alt=\"What GPT sees vs. What you see\" width=\"700\">"
   ]
  },
  {
   "cell_type": "markdown",
   "metadata": {},
   "source": [
    "## Tokenization, Revisited\n",
    "\n",
    "Tokenization is at the heart of a lot of 'weirdness' about LLMs:\n",
    "\n",
    "- Why can’t LLMs spell words? Tokenization!\n",
    "- Why is LLM bad at simple arithmetic? Tokenization!\n",
    "- Why does LLM perform worse at other languages? Tokenization!"
   ]
  },
  {
   "cell_type": "markdown",
   "metadata": {},
   "source": [
    "To see how this works, let's check out **Tiktokenizer**. This is a tool for developers to track users' token usage. We can use it to see how text is transformed into tokens by different LLMs!\n",
    "\n",
    "Let's go to [Tiktokenizer](https://tiktokenizer.vercel.app/?encoder=gpt2) for GPT2 and **copy/paste the example prompt from this next code cell**:"
   ]
  },
  {
   "cell_type": "code",
   "execution_count": 11,
   "metadata": {},
   "outputs": [
    {
     "name": "stdout",
     "output_type": "stream",
     "text": [
      "I am zero\n",
      "I am positive\n",
      "I am greater than 1\n"
     ]
    }
   ],
   "source": [
    "# Tokenization causes many weird issues! It's worth thinking about.\n",
    "\n",
    "# Tokenization zorgt voor veel gekke problemen! Het is de moeite waard om erover na te denken.\n",
    "\n",
    "127 + 677 == 804\n",
    "1275 + 6773 == 8041\n",
    "\n",
    "for i in range(3):\n",
    "\tif i == 0:\n",
    "\t\tprint(\"I am zero\")\n",
    "\telif i == 1:\n",
    "\t\tprint(\"I am positive\")\n",
    "\telse:\n",
    "\t\tprint(\"I am greater than 1\")"
   ]
  },
  {
   "cell_type": "markdown",
   "metadata": {},
   "source": [
    "Next, let's change tokenizer to `cl100k_base`: this is the GPT4 tokenizer. Note how this reduces the amount of tokens needed for this prompt. This is because the model has more tokens to choose from (about double!) \n"
   ]
  },
  {
   "cell_type": "markdown",
   "metadata": {},
   "source": [
    "Note: GPT models generally use **subword tokenization** methods like Byte-Pair Encoding (BPE). This involves determining the vocabulary of subwords based on frequency statistics of pairs of characters/subwords in the training corpus. Once \"trained\", the tokenizer has a fixed vocabulary. This vocabulary is used to encode any text into token IDs that GPT's layers can process."
   ]
  },
  {
   "cell_type": "markdown",
   "metadata": {},
   "source": [
    "## Training GPT\n",
    "\n",
    "Like BERT, OpenAI's GPT models are so-called **foundation models**: models that are trained on broad data such that they can be applied across a wide range of use cases. \n",
    "\n",
    "Training involves two training stages: pre-training and fine-tuning.\n",
    "\n",
    "#### Pre-training\n",
    "Initially, the GPT model is exposed to a massive, diverse dataset. This dataset isn't specifically tailored to any particular task, but encompasses a broad range of general language data. \n",
    "\n",
    "This process is done through **Autoregressive Modeling**. In this method, the model is trained to predict the next word in a sentence given all the previous words. It learns to generate text by sequentially predicting one word at a time, using the context of all the preceding words in the sequence.\n",
    "\n",
    "#### Fine-tuning\n",
    "After pre-training, GPT is fine-tuned on specific tasks (like question answering, text generation, etc.) using supervised learning. This involves training on a smaller, task-specific dataset, often using human labeling."
   ]
  },
  {
   "cell_type": "markdown",
   "metadata": {},
   "source": [
    "<a id='use'></a>\n",
    "# Using GPT to generate text\n",
    "\n",
    "With all of that out of the way, let's use GPT-2 to generate some text based on an input text. Here's what we do:\n",
    "\n",
    "- `tokenizer(prompt, return_tensors='pt')`: We use the tokenizer to convert the prompt text into a format that the model can understand. The tokenizer performs several steps, including splitting the text into tokens (words or subwords), converting these tokens into numerical IDs (tokenization), and preparing these token IDs in a tensor format suitable for PyTorch `(return_tensors='pt')`.\n",
    "\n",
    "- `.input_ids`: This extracts just the input IDs from the tokenized output. These IDs are what the model actually processes to generate predictions.\n"
   ]
  },
  {
   "cell_type": "code",
   "execution_count": 27,
   "metadata": {
    "tags": []
   },
   "outputs": [
    {
     "ename": "ModuleNotFoundError",
     "evalue": "No module named 'transformers'",
     "output_type": "error",
     "traceback": [
      "\u001b[1;31m---------------------------------------------------------------------------\u001b[0m",
      "\u001b[1;31mModuleNotFoundError\u001b[0m                       Traceback (most recent call last)",
      "Cell \u001b[1;32mIn[27], line 1\u001b[0m\n\u001b[1;32m----> 1\u001b[0m \u001b[38;5;28;01mfrom\u001b[39;00m \u001b[38;5;21;01mtransformers\u001b[39;00m \u001b[38;5;28;01mimport\u001b[39;00m AutoTokenizer, AutoModelForCausalLM, pipeline, GPT2LMHeadModel\n\u001b[0;32m      3\u001b[0m tokenizer \u001b[38;5;241m=\u001b[39m AutoTokenizer\u001b[38;5;241m.\u001b[39mfrom_pretrained(\u001b[38;5;124m\"\u001b[39m\u001b[38;5;124mdistilgpt2\u001b[39m\u001b[38;5;124m\"\u001b[39m)\n\u001b[0;32m      4\u001b[0m model \u001b[38;5;241m=\u001b[39m AutoModelForCausalLM\u001b[38;5;241m.\u001b[39mfrom_pretrained(\u001b[38;5;124m\"\u001b[39m\u001b[38;5;124mdistilgpt2\u001b[39m\u001b[38;5;124m\"\u001b[39m)\n",
      "\u001b[1;31mModuleNotFoundError\u001b[0m: No module named 'transformers'"
     ]
    }
   ],
   "source": [
    "from transformers import AutoTokenizer, AutoModelForCausalLM, pipeline, GPT2LMHeadModel\n",
    "\n",
    "tokenizer = AutoTokenizer.from_pretrained(\"distilgpt2\")\n",
    "model = AutoModelForCausalLM.from_pretrained(\"distilgpt2\")\n",
    "\n",
    "prompt = 'it was a dark and stormy night'     \n",
    "\n",
    "# generate the result with contrastive search\n",
    "input_ids = tokenizer(prompt, return_tensors='pt').input_ids\n",
    "input_ids"
   ]
  },
  {
   "cell_type": "markdown",
   "metadata": {},
   "source": [
    "Next, we set some hyperparameters such as `temperature` and `top_k`. More on what these mean later!\n",
    "\n",
    "We then call `model.generate(...)`: it tells the model to generate text based on the provided input_ids."
   ]
  },
  {
   "cell_type": "code",
   "execution_count": 13,
   "metadata": {
    "tags": []
   },
   "outputs": [
    {
     "data": {
      "text/plain": [
       "tensor([[ 270,  373,  257, 3223,  290, 6388,   88, 1755,   11,  290,  340,  373,\n",
       "          523, 3223,   13,  383, 1657,  373, 3223,   11,  262, 8824,  373, 3223,\n",
       "           11,  262, 8824,  373, 3223,   11,  262, 8824,  373, 3223,   11,  262,\n",
       "         8824,  373, 3223,   11,  262, 8824,  373, 3223,   11,  262, 8824,  373,\n",
       "         3223,   11,  262, 8824,  373, 3223,   11,  262, 8824,  373, 3223,   11,\n",
       "          262, 8824,  373, 3223,   11,  262, 8824,  373, 3223,   11,  262, 8824,\n",
       "          373, 3223,   11,  262, 8824,  373, 3223,   11]])"
      ]
     },
     "execution_count": 13,
     "metadata": {},
     "output_type": "execute_result"
    }
   ],
   "source": [
    "temperature = 0.9   # a higher temperature will produce more diverse results, but with a higher risk of less coherent text\n",
    "top_k = 8           # the number of tokens to sample from at each step\n",
    "max_length = 80     # the maximum number of tokens for the output of the model\n",
    "\n",
    "output = model.generate(input_ids, do_sample=True, temperature=temperature, top_k=top_k, max_length=max_length)\n",
    "output"
   ]
  },
  {
   "cell_type": "markdown",
   "metadata": {},
   "source": [
    "Finally, we call `tokenizer.decode(...)`: it tells the model to decode the sequence of numbers into words."
   ]
  },
  {
   "cell_type": "code",
   "execution_count": 14,
   "metadata": {
    "tags": []
   },
   "outputs": [
    {
     "name": "stdout",
     "output_type": "stream",
     "text": [
      "Generated text 1:\n",
      "it was a dark and stormy night, and it was so dark. The light was dark, the moon was dark, the moon was dark, the moon was dark, the moon was dark, the moon was dark, the moon was dark, the moon was dark, the moon was dark, the moon was dark, the moon was dark, the moon was dark, the moon was dark,\n",
      "\n",
      "\n"
     ]
    }
   ],
   "source": [
    "# we use a loop since model.generate  can produce multiple sequences of text when the num_return_sequences parameter \n",
    "# is set to a value greater than 1\n",
    "\n",
    "for i, sequence in enumerate(output):\n",
    "    decoded_sequence = tokenizer.decode(sequence, skip_special_tokens=True)\n",
    "    print(f\"Generated text {i+1}:\")\n",
    "    print(decoded_sequence)\n",
    "    print(\"\\n\")"
   ]
  },
  {
   "cell_type": "markdown",
   "metadata": {},
   "source": [
    "💡 **Tip**:  Play around with the hyperparameters above to see how it changes the output!"
   ]
  },
  {
   "cell_type": "markdown",
   "metadata": {},
   "source": [
    "## Generating Multiple Outputs\n",
    "\n",
    "Because text generation using GPT is a stochastic process, we will get different results each time we run it. Here, we will run the same operation 5 times so we can see the variation in the output."
   ]
  },
  {
   "cell_type": "code",
   "execution_count": 15,
   "metadata": {
    "tags": []
   },
   "outputs": [
    {
     "name": "stderr",
     "output_type": "stream",
     "text": [
      "/Users/tomvannuenen/anaconda3/envs/dlab/lib/python3.10/site-packages/transformers/generation/configuration_utils.py:418: UserWarning: `num_beams` is set to 1. However, `early_stopping` is set to `True` -- this flag is only used in beam-based generation modes. You should set `num_beams>1` or unset `early_stopping`.\n",
      "  warnings.warn(\n"
     ]
    },
    {
     "name": "stdout",
     "output_type": "stream",
     "text": [
      "Generated text 1:\n",
      "it was a dark and stormy night, as though I had never seen an enemy so strong in the face of darkness. But there were no signs that he did not have it all together or with him.\"\n",
      "\"He said to me: 'If you can't help us find one man who is more dangerous than my son - if your brother's name comes from this town where his wife lives\n",
      "\n",
      "\n",
      "Generated text 2:\n",
      "it was a dark and stormy night, but he never let it go.\n",
      "\n",
      "\n",
      "Generated text 3:\n",
      "it was a dark and stormy night.\n",
      "“It wasn't just that I had to go out of my way for this, but it felt like there's something in the world about being so beautiful...I couldn't believe how many people were looking at me....but they knew what their lives would be after them! It seemed as though all hell went on here.\"\n",
      "\n",
      "\n",
      "Generated text 4:\n",
      "it was a dark and stormy night. It wasn't like that; it didn´t have its own atmosphere, but with all the noise coming from around here.\"\n",
      "The next day he saw two more people in an ambulance on one side of his bed who were also injured by what appeared to be some sort \"warp\", which had caused him serious damage when they arrived at her home just\n",
      "\n",
      "\n",
      "Generated text 5:\n",
      "it was a dark and stormy night that I had no idea what to do.\n",
      "I went home, but the next day my mom came up with me for lunch on Tuesday morning (Wednesday). She told him she would be back at work tomorrow afternoon after dinner so he could get some sleep when we got there later today! He didn't have any plans until 2pm or early Wednesday in this\n",
      "\n",
      "\n"
     ]
    }
   ],
   "source": [
    "import torch\n",
    "from transformers import AutoTokenizer, AutoModelForCausalLM\n",
    "# Set the seed for reproducibility\n",
    "seed_value = 42\n",
    "torch.manual_seed(seed_value)\n",
    "tokenizer = AutoTokenizer.from_pretrained(\"distilgpt2\")\n",
    "model = AutoModelForCausalLM.from_pretrained(\"distilgpt2\")\n",
    "prompt = 'it was a dark and stormy night'\n",
    "temperature = 0.9\n",
    "top_k = 8\n",
    "max_length = 80\n",
    "repetition_penalty = 1\n",
    "num_return_sequences = 5\n",
    "input_ids = tokenizer(prompt, return_tensors='pt').input_ids\n",
    "output = model.generate(input_ids,\n",
    "                        do_sample=True,\n",
    "                        temperature=temperature,\n",
    "                        top_k=top_k,\n",
    "                        max_length=max_length,\n",
    "                        num_return_sequences=num_return_sequences,\n",
    "                        repetition_penalty=repetition_penalty,\n",
    "                        penalty_alpha=0.6,\n",
    "                        no_repeat_ngram_size=1,\n",
    "                        early_stopping=True)\n",
    "# Decoding the output to text\n",
    "for i in range(num_return_sequences):\n",
    "    print(f\"Generated text {i+1}:\")\n",
    "    print(tokenizer.decode(output[i], skip_special_tokens=True))\n",
    "    print(\"\\n\")"
   ]
  },
  {
   "cell_type": "markdown",
   "metadata": {
    "tags": []
   },
   "source": [
    "## Controlling the Randomness\n",
    "\n",
    "As we have seen, the process of word generation inherently includes randomness. The question, then, is how we can control that randomness. GPT2 has several parameters to do so.\n",
    "\n",
    "Temperature: The `temperature` parameter is used to control the randomness in the probability distribution of the next word predictions. A low temperature (close to 0) makes the model more confident in its top choices (more deterministic), leading to less random and more predictable text. As the temperature increases, the model's predictions become more random and diverse. Essentially, temperature \"flattens\" or \"sharpens\" the probability distribution. A high temperature gives lower-probability words more chance of being chosen, while a low temperature makes the model strongly favor high-probability words.\n",
    "\n",
    "<img src='../images/temp.png' alt=\"Temperature in GPT\" width=\"500\">\n",
    "\n",
    "\n",
    "Top-K Sampling (top_k): `top_k sampling` limits the model's next-word predictions to the top k most likely words. Only the k most probable next words are considered for each step in the generation process. This can help to focus the generation on more likely words and avoid the model going off on a tangent with less probable, irrelevant words. However, `top_k` sampling does not consider the cumulative probability of the words, so even very low-probability words might be included if they are among the top k.\n",
    "\n",
    "Nucleus Sampling (top_p): `top_p sampling`, also known as nucleus sampling, considers the cumulative probability of the words.\n",
    "It selects the smallest set of words whose cumulative probability exceeds the threshold p. This means it dynamically adjusts the number of words it considers based on their probability distribution. `top_p` provides a more dynamic approach compared to `top_k` as it can include more or fewer words depending on their probability distribution for each prediction."
   ]
  },
  {
   "cell_type": "code",
   "execution_count": 5,
   "metadata": {},
   "outputs": [
    {
     "name": "stderr",
     "output_type": "stream",
     "text": [
      "huggingface/tokenizers: The current process just got forked, after parallelism has already been used. Disabling parallelism to avoid deadlocks...\n",
      "To disable this warning, you can either:\n",
      "\t- Avoid using `tokenizers` before the fork if possible\n",
      "\t- Explicitly set the environment variable TOKENIZERS_PARALLELISM=(true | false)\n"
     ]
    },
    {
     "name": "stdout",
     "output_type": "stream",
     "text": [
      "Output with temperature = 0.7, top_p = 0.8, and top_k = 40:\n",
      "Life on Mars could be the biggest breakthrough in the history of human exploration, and it's not going to be easy.\n",
      "\n",
      "It's also not going to be easy to make money.\n",
      "\n",
      "The biggest challenge for NASA is to make money from\n",
      "\n",
      "Output with temperature = 0.9, top_p = 0.9, and top_k = 80:\n",
      "Life on Mars could allow for the creation of life on Mars, with the help of life-like lifeforms (like plants or animals), and could create the world's first human-like planet.\n",
      "\n",
      "The research, supported by NASA's Mars\n",
      "\n",
      "Output with temperature = 3.1, top_p = 0.95, and top_k = 120:\n",
      "Life on Mars could affect scientists better on earth which could reduce in need for scientific funding, because in total 30 billion objects must be included in its view in order get that message for the majority species of organisms -- yet somehow people with no financial can run\n",
      "\n"
     ]
    }
   ],
   "source": [
    "from transformers import pipeline\n",
    "\n",
    "text_generator = pipeline(\"text-generation\", model=\"gpt2\")\n",
    "\n",
    "prompt = \"Life on Mars could\"\n",
    "params = [\n",
    "    {\"temperature\": 0.7, \"top_p\": 0.8, \"top_k\": 40},\n",
    "    {\"temperature\": 0.9, \"top_p\": 0.9, \"top_k\": 80},\n",
    "    {\"temperature\": 3.1, \"top_p\": 0.95, \"top_k\": 120}\n",
    "]\n",
    "\n",
    "for param in params:\n",
    "    output = text_generator(prompt, max_length=50, temperature=param['temperature'], top_p=param['top_p'], top_k=param['top_k'])[0]['generated_text']\n",
    "    print(f\"Output with temperature = {param['temperature']}, top_p = {param['top_p']}, and top_k = {param['top_k']}:\\n{output}\\n\")\n"
   ]
  },
  {
   "cell_type": "markdown",
   "metadata": {},
   "source": [
    "### 💡 Tip: Value Ranges for Temperature, Top-K Sampling and Nucleus Sampling\n",
    "\n",
    "#### Temperature:\n",
    "\n",
    "**Minimum Value**: Technically, the temperature can be set to a value greater than 0. A value of 0 is not practical, as it would lead to division by zero in the softmax calculation. Practically, values close to 0 (e.g., 0.1) are used to make the model very confident, leading to repetitive and predictable text.\n",
    "\n",
    "**Maximum Value**: There is no fixed upper limit for temperature, but extremely high values (e.g., above 2 or 3) make the model's output extremely random and incoherent. Commonly, values are kept between 0.7 and 1.5 for reasonable variation in text generation.\n",
    "\n",
    "#### Top-K Sampling (top_k):\n",
    "\n",
    "**Minimum Value**: The minimum value is 0, which effectively turns off top-k sampling. This means all words are considered, regardless of their probability.\n",
    "\n",
    "**Maximum Value**: The maximum value is theoretically the size of the model's vocabulary. For GPT-2, this is around 50,000. Setting top_k to a very high value is equivalent to not using top-k sampling at all.\n",
    "\n",
    "#### Nucleus Sampling (top_p):\n",
    "\n",
    "**Minimum Value**: The minimum is 0, which would mean no words are selected, leading to no generation. In practice, a very low value (close to 0) would lead to extremely conservative text generation, with little to no variation.\n",
    "\n",
    "**Maximum Value**: The maximum is 1, in which case the model considers all possible next words, as their combined probabilities add up to 100%. Setting top_p to 1 effectively turns off nucleus sampling, as the entire probability distribution is used.\n"
   ]
  },
  {
   "cell_type": "markdown",
   "metadata": {},
   "source": [
    "🔔 **Question**: What does changing these values do to the outputs? How reliable and consistent are the results, and what does that mean for the field or application you envision using GPT in?\n",
    "    "
   ]
  },
  {
   "cell_type": "markdown",
   "metadata": {},
   "source": [
    "<div class=\"alert alert-success\">\n",
    "\n",
    "## ❗ Key Points\n",
    "\n",
    "* The history of LLMs is a history of turning words into numbers in increasingly clever ways.\n",
    "* \"Vectorizing\" words simply means to turn them into lists of numbers. A simple way to do this is to count all unique words (terms) in a text, and encode their frequency.\n",
    "* Word embeddings models turn words into static vectors that encode meaning. These models are trained by encoding words that appear near each other with similar vectors. \n",
    "* In the transformer architecture, words are turned into dynamic vectors that capture semantic content, as well as contexual information that reflect varied meanings based on surrounding words. \n",
    "* When trained, the transformer model dynamically adjusts the relationships between words through the attention mechanism.\n",
    "* GPT models are based on the transformer architecture. They predict the next token based on the dynamic embeddings of all the other tokens in its context window.\n",
    "* In GPT models, the temperature parameter is used to control the randomness in the probability distribution of the next word predictions.\n",
    "</div>"
   ]
  }
 ],
 "metadata": {
  "kernelspec": {
   "display_name": "Python [conda env:anaconda3]",
   "language": "python",
   "name": "conda-env-anaconda3-py"
  },
  "language_info": {
   "codemirror_mode": {
    "name": "ipython",
    "version": 3
   },
   "file_extension": ".py",
   "mimetype": "text/x-python",
   "name": "python",
   "nbconvert_exporter": "python",
   "pygments_lexer": "ipython3",
   "version": "3.12.7"
  }
 },
 "nbformat": 4,
 "nbformat_minor": 4
}
